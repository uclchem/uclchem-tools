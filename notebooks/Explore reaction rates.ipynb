{
 "cells": [
  {
   "cell_type": "code",
   "execution_count": null,
   "id": "ec2cc754",
   "metadata": {},
   "outputs": [],
   "source": [
    "import yaml\n",
    "import matplotlib.pyplot as plt\n",
    "import pandas as pd\n",
    "from copy import deepcopy\n",
    "import numpy as np\n",
    "\n",
    "from IPython.display import display, HTML\n",
    "display(HTML(\"<style>.container { width:100% !important; }</style>\"))"
   ]
  },
  {
   "cell_type": "code",
   "execution_count": null,
   "id": "e2444be0",
   "metadata": {},
   "outputs": [],
   "source": [
    "%%time\n",
    "with open(\"/home/vermarien/data2/uclchem-dev/v3.1.0/examples/test-output/phase1-full.yaml\", \"r\") as fh:\n",
    "    data_v3_1_p1 = yaml.safe_load(fh)\n",
    "with open(\"/home/vermarien/data2/uclchem-dev/v3.1.0-dev-h3tomolhydrogen/examples/test-output/phase1-full.yaml\", \"r\") as fh:\n",
    "    data_v3_2_p1 = yaml.safe_load(fh)\n",
    "with open(\"/home/vermarien/data2/uclchem-dev/v3.1.0/examples/test-output/phase2-full.yaml\", \"r\") as fh:\n",
    "    data_v3_1_p2 = yaml.safe_load(fh)\n",
    "with open(\"/home/vermarien/data2/uclchem-dev/v3.1.0-dev-h3tomolhydrogen/examples/test-output/phase2-full.yaml\", \"r\") as fh:\n",
    "    data_v3_2_p2 = yaml.safe_load(fh)"
   ]
  },
  {
   "cell_type": "code",
   "execution_count": null,
   "id": "3661c98c",
   "metadata": {},
   "outputs": [],
   "source": [
    "def process_data(data, specie):\n",
    "    key_destruction_reactions = {}\n",
    "    key_production_reactions = {}\n",
    "    data_copy = deepcopy(data[specie])\n",
    "    for time_key in data_copy:\n",
    "        key_destruction_reactions[time_key] = data_copy[time_key].pop(\"key_destruction_reactions\")\n",
    "        key_production_reactions[time_key] = data_copy[time_key].pop(\"key_production_reactions\")\n",
    "    df = pd.DataFrame.from_dict(data_copy).transpose()\n",
    "    df.set_index(\"time\", inplace=True)\n",
    "    df[\"total_destruction\"] *= -1 #make destruction positive so we can plot it.\n",
    "    df_dest = pd.DataFrame.from_dict(key_destruction_reactions).transpose()\n",
    "    df_dest.index.set_names([\"Time\"], inplace=True)\n",
    "    df_prod = pd.DataFrame.from_dict(key_production_reactions).transpose()\n",
    "    df_prod.index.set_names([\"Time\"], inplace=True)\n",
    "    df_dest.columns = [name.replace(specie, r\"$\\bf{\" + str(specie) + \"}$\") for name in df_dest.columns]\n",
    "    df_prod.columns = [name.replace(specie, r\"$\\bf{\" + str(specie) + \"}$\") for name in df_prod.columns]\n",
    "\n",
    "    return {\"df\":df, \"df_dest\":df_dest, \"df_prod\":df_prod}"
   ]
  },
  {
   "cell_type": "code",
   "execution_count": null,
   "id": "6cbb46aa",
   "metadata": {},
   "outputs": [],
   "source": [
    "def plot_rates(df, df_dest, df_prod, fig=None, axes=None, xlim=[None, None]):\n",
    "    if not fig:\n",
    "        fig, axes = plt.subplots(4,1, figsize = (10, 10), sharex=True, tight_layout=True, height_ratios=[1,1,1,0.25])\n",
    "    ax = df.plot(ax=axes[0])\n",
    "    ax.set(xscale=\"log\", yscale=\"log\")\n",
    "    ax = df_prod.plot(ax=axes[1])\n",
    "    ax.set(ylim=[1e-3,1.1], ylabel=\"Production (%)\")\n",
    "    ax.set(xscale=\"log\", yscale=\"log\")\n",
    "    ax = df_dest.plot(ax=axes[2])\n",
    "    ax.set(ylim=[1e-3,1.1], ylabel=\"Destruction (%)\")\n",
    "    ax.set(xscale=\"log\", yscale=\"log\")\n",
    "    if xlim[0] or xlim[1]:\n",
    "        ax.set(xlim=xlim)\n",
    "    axes[-1].scatter(df.index, df.index != -1)\n",
    "    [ax.grid(alpha=0.5) for ax in axes]\n",
    "    return fig, axes"
   ]
  },
  {
   "cell_type": "code",
   "execution_count": null,
   "id": "5fc8aa09",
   "metadata": {},
   "outputs": [],
   "source": [
    "def analyze_rates(data, specie, axes, xlim):\n",
    "    d1 = process_data(data, specie)\n",
    "    plot_rates(**d1, fig = 1, axes=axes, xlim=xlim)\n",
    "fig, axes = plt.subplots(4,1, figsize = (10, 10), sharex=True, tight_layout=True, height_ratios=[1,1,1,0.25])\n",
    "xlim = [1e-6, 1e7]\n",
    "analyze_rates(data_v3_1_p1, \"CH3OH2+\", axes=axes, xlim=xlim)\n",
    "axes[0].set_title(\"v3.1.0\")\n",
    "fig.suptitle(\"Phase 1\")"
   ]
  },
  {
   "cell_type": "code",
   "execution_count": null,
   "id": "e12c92cf",
   "metadata": {},
   "outputs": [],
   "source": [
    "def sort_reaction_df(df, reference_df, common_dict):\n",
    "    # write to dict because sorting indexes is weird\n",
    "    df_dict = df.to_dict()\n",
    "    ref_df_dict = reference_df.to_dict()\n",
    "    # Sort the keys first by whether they are matching, then by the average values of the reference dictionary\n",
    "    # If it is not matching, just sort by its own average value in descending order\n",
    "    df_dict = dict(sorted(df_dict.items(), key=lambda kv: (int(kv[0] not in common_dict.keys()), -np.nanmean(list(ref_df_dict[kv[0]].values())) if kv[0] in common_dict.keys() else -np.nanmean(list(kv[1].values()))     )))\n",
    "    # temp_df = pd.DataFrame.from_dict(df_dict)\n",
    "    # print(\"\\n\", \"\\n\".join([f\"{r}\\t,{int(r not in common_dict)},\\t{np.nanmean(df[r])}\" for r in temp_df.columns]), \"\\n\")\n",
    "    return pd.DataFrame.from_dict(df_dict)\n",
    "\n",
    "\n",
    "\n",
    "def plot_left_right(data1, data2, specie, xlim):\n",
    "    fig, axes = plt.subplots(4,2, figsize = (20, 10), sharex=True, tight_layout=True, height_ratios=[1,1,1,0.25])\n",
    "    d1 = process_data(data1, specie)\n",
    "    d2 = process_data(data2, specie)\n",
    "    # Make sure that the \n",
    "    common_destruction_dict = {fr\"{elem}\": np.nanmean(d1[\"df_dest\"][elem]) for elem in set(d1[\"df_dest\"].keys()).intersection(set(d2[\"df_dest\"].keys()))}\n",
    "    common_production_dict = {fr\"{elem}\": np.nanmean(d1[\"df_prod\"][elem]) for elem in set(d1[\"df_prod\"].keys()).intersection(set(d2[\"df_prod\"].keys()))}\n",
    "    d1[\"df_dest\"] = sort_reaction_df(d1[\"df_dest\"], d1[\"df_dest\"], common_destruction_dict)\n",
    "    d2[\"df_dest\"] = sort_reaction_df(d2[\"df_dest\"], d1[\"df_dest\"], common_destruction_dict)\n",
    "    d1[\"df_prod\"] = sort_reaction_df(d1[\"df_prod\"], d1[\"df_prod\"], common_production_dict)\n",
    "    d2[\"df_prod\"] = sort_reaction_df(d2[\"df_prod\"], d1[\"df_prod\"], common_production_dict)\n",
    "    plot_rates(**d1, fig = 1, axes=axes[:, 0], xlim=xlim)\n",
    "    plot_rates(**d2, fig = 1, axes=axes[:, 1], xlim=xlim)\n",
    "    axes[0, 0].set_title(\"v3.1.0\")\n",
    "    axes[0, 1].set_title(\"v3.1.0-dev\")\n",
    "    return fig, axes"
   ]
  },
  {
   "cell_type": "code",
   "execution_count": null,
   "id": "77e16bdf",
   "metadata": {
    "scrolled": false
   },
   "outputs": [],
   "source": [
    "fig, axes = plot_left_right(data_v3_1_p1, data_v3_2_p1, \"CH3OH2+\", xlim=[1e-6, 1e7])\n",
    "fig.suptitle(\"Phase 1\");"
   ]
  },
  {
   "cell_type": "code",
   "execution_count": null,
   "id": "a63ecdc1",
   "metadata": {},
   "outputs": [],
   "source": [
    "fig, axes = plot_left_right(data_v3_1_p2, data_v3_2_p2, \"CH3OH2+\", xlim=[1e-6, 1e7])\n",
    "fig.suptitle(\"Phase 2\")"
   ]
  },
  {
   "cell_type": "code",
   "execution_count": null,
   "id": "b9b2dba9",
   "metadata": {},
   "outputs": [],
   "source": []
  },
  {
   "cell_type": "code",
   "execution_count": null,
   "id": "31d0d023",
   "metadata": {},
   "outputs": [],
   "source": []
  }
 ],
 "metadata": {
  "kernelspec": {
   "display_name": "Python 3 (ipykernel)",
   "language": "python",
   "name": "python3"
  },
  "language_info": {
   "codemirror_mode": {
    "name": "ipython",
    "version": 3
   },
   "file_extension": ".py",
   "mimetype": "text/x-python",
   "name": "python",
   "nbconvert_exporter": "python",
   "pygments_lexer": "ipython3",
   "version": "3.9.6"
  }
 },
 "nbformat": 4,
 "nbformat_minor": 5
}
