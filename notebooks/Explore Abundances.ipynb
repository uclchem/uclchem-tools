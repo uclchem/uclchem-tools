{
 "cells": [
  {
   "cell_type": "code",
   "execution_count": null,
   "id": "8bfca355",
   "metadata": {},
   "outputs": [],
   "source": [
    "import pandas as pd\n",
    "from glob import glob\n",
    "import uclchem\n",
    "import matplotlib.pyplot as plt\n",
    "from seaborn import color_palette\n",
    "from matplotlib.lines import Line2D\n",
    "\n",
    "%matplotlib notebook\n",
    "from IPython.display import display, HTML\n",
    "display(HTML(\"<style>.container { width:100% !important; }</style>\"))\n",
    "from cycler import cycler\n"
   ]
  },
  {
   "cell_type": "code",
   "execution_count": null,
   "id": "9503d0d5",
   "metadata": {},
   "outputs": [],
   "source": [
    "%ls ../src/uclchem_tools/output_files"
   ]
  },
  {
   "cell_type": "code",
   "execution_count": null,
   "id": "853c0e7f",
   "metadata": {},
   "outputs": [],
   "source": [
    "path = \"../src/uclchem_tools/output_files/\"\n",
    "dirs = glob(path + \"*.h5\")\n",
    "dirs =  [\"../src/uclchem_tools/output_files/v3.1.0.h5\", \"../src/uclchem_tools/output_files/v3.1.0-dev-h3tomolhydrogen.h5\" ]\n",
    "names = [dir_.split(\"/\")[-1] for dir_ in dirs]\n",
    "dfs = {name:{key:pd.read_hdf(dir_, key) for key in [\"phase1\", \"phase2\", \"static\"]} for name, dir_ in zip(names, dirs)}\n",
    "dfs.keys()"
   ]
  },
  {
   "cell_type": "code",
   "execution_count": null,
   "id": "e71948fb",
   "metadata": {},
   "outputs": [],
   "source": [
    "dfs[\"v3.1.0-dev-h3tomolhydrogen.h5\"].keys()"
   ]
  },
  {
   "cell_type": "code",
   "execution_count": null,
   "id": "82fdfa09",
   "metadata": {},
   "outputs": [],
   "source": [
    "\n",
    "def plot_species(ax, df, species, **plot_kwargs):\n",
    "    \"\"\"Plot the abundance of a list of species through time directly onto an axis.\n",
    "\n",
    "    Args:\n",
    "        ax (pyplot.axis): An axis object to plot on\n",
    "        df (pd.DataFrame): A dataframe created by `read_output_file`\n",
    "        species (str): A list of species names to be plotted. If species name starts with \"$\" instead of # or @, plots the sum of surface and bulk abundances\n",
    "\n",
    "    Returns:\n",
    "        pyplot.axis: Modified input axis is returned\n",
    "    \"\"\"\n",
    "\n",
    "    color_palette(n_colors=len(species))\n",
    "    for specIndx, specName in enumerate(species):\n",
    "        linestyle = \"solid\"\n",
    "        if specName[0] == \"$\" and specName.replace(\"$\", \"#\") in list(df.columns):\n",
    "            abundances = df[specName.replace(\"$\", \"#\")]\n",
    "            linestyle = \"dashdot\"\n",
    "            if specName.replace(\"$\", \"@\") in df.columns:\n",
    "                abundances = abundances + df[specName.replace(\"$\", \"@\")]\n",
    "        elif specName[0] == \"#\":\n",
    "            linestyle = \"dashed\"\n",
    "            abundances = df[specName]\n",
    "        elif specName[0] == \"@\":\n",
    "            linestyle = \"dotted\"\n",
    "            abundances = df[specName]\n",
    "        else:\n",
    "            abundances = df[specName]\n",
    "        if abundances.all()==1e-30:\n",
    "            addendum = \" (np)\"\n",
    "        else:\n",
    "            addendum = \"\"\n",
    "        ax.plot(\n",
    "            df[\"Time\"],\n",
    "            abundances,\n",
    "            label=specName+addendum,\n",
    "            lw=2,\n",
    "            linestyle=linestyle,\n",
    "            **plot_kwargs,\n",
    "        )\n",
    "    return ax\n",
    "\n",
    "\n",
    "def plot_evolution(species_to_plot, runs_to_include, reference_run=None, verbose=False, plot_temp=False, fig=None, axes=None):\n",
    "    i = 0\n",
    "    print(plot_temp)\n",
    "    if not fig and not axes:\n",
    "        height_ratios = [1] * len(runs_to_include)\n",
    "        if plot_temp:\n",
    "             height_ratios += [0.5]\n",
    "        fig, axes = plt.subplots(len(runs_to_include)+1 if plot_temp else 0, 3, figsize=(24, 15), height_ratios=height_ratios, tight_layout=True, sharex=True)\n",
    "#     axes = axes.flatten()\n",
    "    model_names = {\n",
    "        \"phase1\": \"Collapsing Cloud\",\n",
    "        \"phase2\": \"Hot Core\",\n",
    "        \"static\": \"Static Cloud\",\n",
    "    }\n",
    "    model_data = {}\n",
    "    for idx_i, df_key in enumerate(runs_to_include):\n",
    "        df = dfs[df_key]\n",
    "        print(df.keys())\n",
    "        for idx_j, model in enumerate([\"phase1\", \"phase2\", \"static\"]):\n",
    "            axis = axes[idx_i, idx_j]\n",
    "            axis.set_prop_cycle(cycler(color=plt.get_cmap('tab10').colors))\n",
    "\n",
    "            # Handle species that are not there.\n",
    "            for spec in species_to_plot:\n",
    "                if spec not in list(df[model].columns):\n",
    "                    if spec.startswith(\"$\"):\n",
    "                        if not spec.replace(\"$\",\"#\") in df[model]:\n",
    "                            df[model][spec.replace(\"$\",\"#\")] = 1.0e-30\n",
    "                        if not spec.replace(\"$\",\"@\") in df[model]:\n",
    "                            df[model][spec.replace(\"$\",\"@\")] = 1.0e-30\n",
    "\n",
    "            if verbose:\n",
    "                print(f\"Testing element conservation for {df_key} in {model}: {uclchem.analysis.check_element_conservation(df[model])}\")\n",
    "            # plot species and save to test.png, alternatively send dens instead of time.\n",
    "\n",
    "            axis = plot_species(\n",
    "                axis, df[model], species_to_plot\n",
    "            )\n",
    "            if reference_run and df_key != reference_run:\n",
    "                axis.set_prop_cycle(None)\n",
    "                axis.set_prop_cycle(cycler(color=plt.get_cmap('tab10').colors))\n",
    "                axis = plot_species(\n",
    "                    axis, dfs[reference_run][model], species_to_plot, alpha=0.5\n",
    "                )\n",
    "            # plot species returns the axis so we can further edit\n",
    "            axis.set(xscale=\"log\", ylim=(1e-24, 1), xlim=(1, 6e6), yscale=\"log\")\n",
    "            \n",
    "            \n",
    "            if model == \"phase1\":\n",
    "                axis.set(xlim=(1e3, 6e6))\n",
    "            axis.set_title(model_names[model])\n",
    "            i = i + 1\n",
    "            \n",
    "            if plot_temp:\n",
    "                axes[-1, idx_j].plot(df[model][\"Time\"], df[model][\"gasTemp\"], label=model)\n",
    "                axes[-1, idx_j].set(ylabel=\"Temperature (K)\")\n",
    "        if reference_run and df_key != reference_run:\n",
    "            axis.legend([Line2D([0],[0], c=\"black\"), Line2D([0],[0],alpha=0.5)], [df_key, reference_run], bbox_to_anchor=(1.05, 1), loc='upper left')\n",
    "    axes[0, -1].legend(bbox_to_anchor=(1.05, 1), loc='upper left',)\n",
    "        \n",
    "    return fig, axes\n",
    "    \n"
   ]
  },
  {
   "cell_type": "code",
   "execution_count": null,
   "id": "c43befbe",
   "metadata": {
    "scrolled": false
   },
   "outputs": [],
   "source": [
    "speciesNames = [\n",
    "    \"H\",\n",
    "    \"H2\",\n",
    "    \"#H2\",\n",
    "    \"$H\",\n",
    "    \"H2O\",\n",
    "    \"$H2O\",\n",
    "    # \"CO\",\n",
    "    # \"$CO\",\n",
    "    \"$CH3OH\",\n",
    "    \"CH3OH\",\n",
    "     \"HE\",\n",
    "     \"$HE\",\n",
    "]"
   ]
  },
  {
   "cell_type": "code",
   "execution_count": null,
   "id": "cf2f08d6",
   "metadata": {
    "scrolled": false
   },
   "outputs": [],
   "source": [
    "speciesNames = [\n",
    "    \"HE\",\n",
    "    \"@HE\",\n",
    "    \"#HE\",\n",
    "]"
   ]
  },
  {
   "cell_type": "code",
   "execution_count": null,
   "id": "f35f9199",
   "metadata": {
    "scrolled": false
   },
   "outputs": [],
   "source": [
    "speciesNames = [\n",
    "    \"H\",\n",
    "    \"#H\",\n",
    "    \"@H\",\n",
    "    \"H2\",\n",
    "    \"#H2\",\n",
    "    \"@H2\",\n",
    "]"
   ]
  },
  {
   "cell_type": "code",
   "execution_count": null,
   "id": "da280cb4",
   "metadata": {
    "scrolled": false
   },
   "outputs": [],
   "source": [
    "speciesNames = [\n",
    "    \"CO\",\n",
    "    \"#CO\",\n",
    "    \"@CO\"\n",
    "]"
   ]
  },
  {
   "cell_type": "code",
   "execution_count": null,
   "id": "c964d65a",
   "metadata": {},
   "outputs": [],
   "source": [
    "from IPython.display import display\n",
    "from ipywidgets import Checkbox, HBox, VBox, Box, Layout, Button, Output\n",
    "import numpy as np"
   ]
  },
  {
   "cell_type": "code",
   "execution_count": null,
   "id": "d2e22565",
   "metadata": {},
   "outputs": [],
   "source": [
    "all_elements = [[df.columns.values for df in list(dfs.values())] for dfs in list(dfs.values())]\n",
    "unique_elements = []\n",
    "for col1 in all_elements:\n",
    "    for col2 in col1:\n",
    "        for col3 in col2:\n",
    "            if col3 not in unique_elements:\n",
    "                if col3.startswith(\"#\") and col3.replace(\"#\", \"$\") not in unique_elements:\n",
    "                    unique_elements.append(col3.replace(\"#\", \"$\"))\n",
    "                elif col3.startswith(\"@\") and col3.replace(\"@\", \"$\") not in unique_elements:\n",
    "                    unique_elements.append(col3.replace(\"@\", \"$\"))\n",
    "                unique_elements.append(col3)\n",
    "\n",
    "[unique_elements.remove(nonspecies) for nonspecies in [\"Time\", \"Density\", \"gasTemp\", \"av\", \"zeta\", \"point\", \"radfield\"]]\n"
   ]
  },
  {
   "cell_type": "code",
   "execution_count": null,
   "id": "1dff4724",
   "metadata": {},
   "outputs": [],
   "source": [
    "unique_elements.sort(key=lambda x: x.replace(\"$\",\"\").replace(\"@\",\"\").replace(\"#\",\"\"))"
   ]
  },
  {
   "cell_type": "code",
   "execution_count": null,
   "id": "41015126",
   "metadata": {},
   "outputs": [],
   "source": [
    "cols = 10\n",
    "rows = len(unique_elements) // cols\n",
    "try:\n",
    "    boxes\n",
    "except:\n",
    "    boxes = [Checkbox(False, description=element, layout=Layout(max_width=\"175px\")) for element in unique_elements]\n",
    "boxcontainer = []\n",
    "for i in range(cols):\n",
    "    rightbound = min(len(boxes),(i+1)*rows)\n",
    "    print(rightbound)\n",
    "    boxcontainer.append(VBox(boxes[i*rows:rightbound]))\n",
    "container = HBox(boxcontainer, layout=Layout(width='1920px',display='inline-flex',))\n"
   ]
  },
  {
   "cell_type": "code",
   "execution_count": null,
   "id": "d72a2876",
   "metadata": {},
   "outputs": [],
   "source": [
    "render_button = Button(\n",
    "    description='Make plots',\n",
    "    disabled=False,\n",
    "    button_style='', # 'success', 'info', 'warning', 'danger' or ''\n",
    "    tooltip='Click me',\n",
    "    icon='check'\n",
    ")\n",
    "def on_change(a):\n",
    "    global fig\n",
    "    global axes\n",
    "    print(\"hello world\")\n",
    "    species_to_plot = [b.description for b in boxes if b.value ]\n",
    "    if len(species_to_plot) == 0:\n",
    "        print(\"Did not select enough species.\")\n",
    "    else:\n",
    "        [ax.cla() for ax in axes.flatten()]\n",
    "        fig, axes = plot_evolution(species_to_plot, list(dfs.keys()), list(dfs.keys())[0], verbose=False, fig=fig, axes=axes, plot_temp=True)\n",
    "render_button.on_click(on_change)"
   ]
  },
  {
   "cell_type": "code",
   "execution_count": null,
   "id": "d45843a9",
   "metadata": {
    "scrolled": false
   },
   "outputs": [],
   "source": [
    "display(container)\n",
    "display(render_button)\n",
    "fig, axes = plot_evolution([b.description for b in boxes if b.value], list(dfs.keys()), list(dfs.keys())[0], verbose=False, plot_temp=True)"
   ]
  },
  {
   "cell_type": "code",
   "execution_count": null,
   "id": "83622f3c",
   "metadata": {},
   "outputs": [],
   "source": [
    "del fig\n",
    "del axes"
   ]
  },
  {
   "cell_type": "code",
   "execution_count": null,
   "id": "41a5b1e5",
   "metadata": {},
   "outputs": [],
   "source": []
  },
  {
   "cell_type": "code",
   "execution_count": null,
   "id": "8d824813",
   "metadata": {},
   "outputs": [],
   "source": []
  },
  {
   "cell_type": "code",
   "execution_count": null,
   "id": "2b997fda",
   "metadata": {},
   "outputs": [],
   "source": []
  },
  {
   "cell_type": "code",
   "execution_count": null,
   "id": "3e89e233",
   "metadata": {},
   "outputs": [],
   "source": []
  },
  {
   "cell_type": "code",
   "execution_count": null,
   "id": "863264b3",
   "metadata": {},
   "outputs": [],
   "source": []
  }
 ],
 "metadata": {
  "kernelspec": {
   "display_name": "Python 3 (ipykernel)",
   "language": "python",
   "name": "python3"
  },
  "language_info": {
   "codemirror_mode": {
    "name": "ipython",
    "version": 3
   },
   "file_extension": ".py",
   "mimetype": "text/x-python",
   "name": "python",
   "nbconvert_exporter": "python",
   "pygments_lexer": "ipython3",
   "version": "3.9.6"
  }
 },
 "nbformat": 4,
 "nbformat_minor": 5
}
